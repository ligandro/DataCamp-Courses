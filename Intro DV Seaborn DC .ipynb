{
 "cells": [
  {
   "cell_type": "markdown",
   "id": "25973748-b310-4c9a-93ba-34d206ae3ad3",
   "metadata": {},
   "source": [
    "# Introduction to Data Visualization with Seaborn"
   ]
  },
  {
   "cell_type": "markdown",
   "id": "54e91283-b496-47cd-8cf7-501c20db9e1e",
   "metadata": {},
   "source": [
    "# PART1 - Introduction to Seaborn"
   ]
  },
  {
   "cell_type": "markdown",
   "id": "2496178f-8d11-49aa-939d-c0c5a90dd4c7",
   "metadata": {},
   "source": [
    "# ->SEABORN\n",
    "### Seaborn is a powerful Python library for creating data visualizations.\n",
    "#### First, Seaborn's main purpose is to make data visualization easy. It was built to automatically handle a lot of complexity behind the scenes. Second, Seaborn works extremely well with pandas data structures. pandas is a Python library that is widely used for data analysis. Finally, it's built on top of Matplotlib, which is another Python visualization library. Matplotlib is extremely flexible. Seaborn allows you to take advantage of this flexibility when you need it, while avoiding the complexity that Matplotlib's flexibility can introduce."
   ]
  },
  {
   "cell_type": "code",
   "execution_count": 4,
   "id": "b9f39c2f-dfab-4d8f-ab20-616a15922196",
   "metadata": {},
   "outputs": [],
   "source": [
    "# Import Matplotlib and Seaborn\n",
    "import matplotlib.pyplot as plt\n",
    "import seaborn as sns\n",
    "\n"
   ]
  },
  {
   "cell_type": "code",
   "execution_count": 5,
   "id": "2193ad72-caa9-446a-9cf1-553e41f5642b",
   "metadata": {},
   "outputs": [
    {
     "data": {
      "text/html": [
       "<div>\n",
       "<style scoped>\n",
       "    .dataframe tbody tr th:only-of-type {\n",
       "        vertical-align: middle;\n",
       "    }\n",
       "\n",
       "    .dataframe tbody tr th {\n",
       "        vertical-align: top;\n",
       "    }\n",
       "\n",
       "    .dataframe thead th {\n",
       "        text-align: right;\n",
       "    }\n",
       "</style>\n",
       "<table border=\"1\" class=\"dataframe\">\n",
       "  <thead>\n",
       "    <tr style=\"text-align: right;\">\n",
       "      <th></th>\n",
       "      <th>Height</th>\n",
       "      <th>Age</th>\n",
       "    </tr>\n",
       "  </thead>\n",
       "  <tbody>\n",
       "    <tr>\n",
       "      <th>0</th>\n",
       "      <td>140</td>\n",
       "      <td>10</td>\n",
       "    </tr>\n",
       "    <tr>\n",
       "      <th>1</th>\n",
       "      <td>170</td>\n",
       "      <td>15</td>\n",
       "    </tr>\n",
       "    <tr>\n",
       "      <th>2</th>\n",
       "      <td>160</td>\n",
       "      <td>14</td>\n",
       "    </tr>\n",
       "  </tbody>\n",
       "</table>\n",
       "</div>"
      ],
      "text/plain": [
       "   Height  Age\n",
       "0     140   10\n",
       "1     170   15\n",
       "2     160   14"
      ]
     },
     "execution_count": 5,
     "metadata": {},
     "output_type": "execute_result"
    }
   ],
   "source": [
    "import pandas as pd\n",
    " \n",
    "# initialize list of lists\n",
    "data = [[140, 10], [170, 15], [160, 14]]\n",
    " \n",
    "# Create the pandas DataFrame\n",
    "df = pd.DataFrame(data, columns = ['Height', 'Age'])\n",
    " \n",
    "# print dataframe.\n",
    "df"
   ]
  },
  {
   "cell_type": "code",
   "execution_count": 6,
   "id": "9ebd78b2-380b-4210-aa0c-a284d715ad70",
   "metadata": {},
   "outputs": [
    {
     "data": {
      "text/plain": [
       "<AxesSubplot:xlabel='Height', ylabel='Age'>"
      ]
     },
     "execution_count": 6,
     "metadata": {},
     "output_type": "execute_result"
    },
    {
     "data": {
      "image/png": "[encoded data removed]",
      "text/plain": [
       "<Figure size 432x288 with 1 Axes>"
      ]
     },
     "metadata": {
      "needs_background": "light"
     },
     "output_type": "display_data"
    }
   ],
   "source": [
    "# Create scatter plot with GDP on the x-axis and number of phones on the y-axis\n",
    "sns.scatterplot(x=df['Height'], y=df['Age'])"
   ]
  },
  {
   "cell_type": "code",
   "execution_count": 9,
   "id": "0a8420f9-c724-4299-a5c8-36667d2fab64",
   "metadata": {},
   "outputs": [
    {
     "data": {
      "text/plain": [
       "<AxesSubplot:xlabel='Age', ylabel='count'>"
      ]
     },
     "execution_count": 9,
     "metadata": {},
     "output_type": "execute_result"
    },
    {
     "data": {
      "image/png": "[encoded data removed]",
      "text/plain": [
       "<Figure size 432x288 with 1 Axes>"
      ]
     },
     "metadata": {
      "needs_background": "light"
     },
     "output_type": "display_data"
    }
   ],
   "source": [
    "sns.countplot(x=df['Age']) #counts no of variable x in the data"
   ]
  },
  {
   "cell_type": "markdown",
   "id": "a4638bf3-fb02-4360-869c-edd125d7949e",
   "metadata": {},
   "source": [
    "# -> Using pandas with Seaborn"
   ]
  },
  {
   "cell_type": "code",
   "execution_count": 9,
   "id": "1f9c2db8-98ce-4656-91bd-6d6a4eee3da3",
   "metadata": {},
   "outputs": [
    {
     "name": "stdout",
     "output_type": "stream",
     "text": [
      "              Squad   Age  Gls\n",
      "0   Manchester City  27.0   96\n",
      "1         Liverpool  27.7   94\n",
      "2           Chelsea  27.4   75\n",
      "3         Tottenham  26.5   63\n",
      "4    Leicester City  26.5   62\n",
      "5           Arsenal  24.4   60\n",
      "6          West Ham  28.2   58\n",
      "7    Manchester Utd  27.2   56\n",
      "8    Crystal Palace  27.1   50\n",
      "9       Aston Villa  26.1   50\n",
      "10        Brentford  25.4   46\n",
      "11          Everton  26.7   42\n",
      "12     Leeds United  26.1   42\n",
      "13    Newcastle Utd  27.5   41\n",
      "14      Southampton  25.7   41\n",
      "15         Brighton  26.2   40\n",
      "16           Wolves  27.3   35\n",
      "17          Watford  28.4   33\n",
      "18          Burnley  28.5   32\n",
      "19     Norwich City  26.2   21\n"
     ]
    }
   ],
   "source": [
    "# Read CSV as DataFrame called airline_bumping\n",
    "df = pd.read_csv(\"/Users/ligandrosy/Downloads/PREM.csv\")\n",
    "\n",
    "# Take a look at the DataFrame\n",
    "print(df[[\"Squad\",\"Age\",\"Gls\"]].sort_values(\"Gls\",ascending =False).reset_index(drop=True))"
   ]
  },
  {
   "cell_type": "code",
   "execution_count": 73,
   "id": "fcf51182-8a6b-48c0-b6c5-37ff76032a00",
   "metadata": {},
   "outputs": [
    {
     "data": {
      "text/plain": [
       "Text(0.5, 0, 'Goals')"
      ]
     },
     "execution_count": 73,
     "metadata": {},
     "output_type": "execute_result"
    },
    {
     "data": {
      "image/png": "[encoded data removed]",
      "text/plain": [
       "<Figure size 432x288 with 1 Axes>"
      ]
     },
     "metadata": {
      "needs_background": "light"
     },
     "output_type": "display_data"
    }
   ],
   "source": [
    "# Create a count plot with \"Spiders\" on the x-axis\n",
    "sns.countplot(x=\"Gls\", data=df)\n",
    "plt.xlabel(\"Goals\")"
   ]
  },
  {
   "cell_type": "markdown",
   "id": "28748d66-20e4-4e99-9406-c04ff2018088",
   "metadata": {},
   "source": [
    "# ->Adding a third variable with hue"
   ]
  },
  {
   "cell_type": "code",
   "execution_count": 13,
   "id": "526ca88b-4f77-4c3d-848f-e07e48755b59",
   "metadata": {},
   "outputs": [],
   "source": [
    "df1 =df.iloc[0:2]"
   ]
  },
  {
   "cell_type": "code",
   "execution_count": 14,
   "id": "98efb055-a912-463d-a244-22ef7ac0fdb5",
   "metadata": {},
   "outputs": [
    {
     "data": {
      "text/plain": [
       "<AxesSubplot:xlabel='Age', ylabel='Gls'>"
      ]
     },
     "execution_count": 14,
     "metadata": {},
     "output_type": "execute_result"
    },
    {
     "data": {
      "image/png": "[encoded data removed]",
      "text/plain": [
       "<Figure size 432x288 with 1 Axes>"
      ]
     },
     "metadata": {
      "needs_background": "light"
     },
     "output_type": "display_data"
    }
   ],
   "source": [
    "sns.scatterplot(x=\"Age\", y =\"Gls\" ,data=df1, hue=\"Squad\")"
   ]
  },
  {
   "cell_type": "code",
   "execution_count": 15,
   "id": "78249464-8df0-4e5b-a079-4c8a4e57166a",
   "metadata": {},
   "outputs": [
    {
     "data": {
      "image/png": "[encoded data removed]",
      "text/plain": [
       "<Figure size 432x288 with 1 Axes>"
      ]
     },
     "metadata": {
      "needs_background": "light"
     },
     "output_type": "display_data"
    }
   ],
   "source": [
    "a= sns.scatterplot(x=\"Age\", y =\"Gls\" ,data=df1, hue=\"Squad\", hue_order=[\"Aston Villa\", \"Arsenal\"] )\n",
    "a.invert_xaxis()"
   ]
  },
  {
   "cell_type": "code",
   "execution_count": 79,
   "id": "70550eeb-b76d-47b7-b3c1-fa6446e88862",
   "metadata": {},
   "outputs": [
    {
     "data": {
      "image/png": "[encoded data removed]",
      "text/plain": [
       "<Figure size 432x288 with 1 Axes>"
      ]
     },
     "metadata": {
      "needs_background": "light"
     },
     "output_type": "display_data"
    }
   ],
   "source": [
    "palette_colors = {\"Arsenal\": \"r\", \"Aston Villa\": \"blue\"}\n",
    "a= sns.scatterplot(x=\"Age\", y =\"Gls\" ,data=df1, hue=\"Squad\", palette=palette_colors)\n",
    "a.invert_xaxis()"
   ]
  },
  {
   "cell_type": "markdown",
   "id": "25d3fea9-abd8-498e-98e1-acfef0654e0d",
   "metadata": {},
   "source": [
    "# PART 2-Visualizing Two Quantitative Variables"
   ]
  },
  {
   "cell_type": "markdown",
   "id": "ae4042a8-16c0-4241-9af2-569286129ab1",
   "metadata": {},
   "source": [
    "# ->Introduction to relational plots and subplots"
   ]
  },
  {
   "cell_type": "markdown",
   "id": "8cf93c70-824f-46e4-ab04-80051bdeccb5",
   "metadata": {},
   "source": [
    "#### describing the relationship between two quantitative variables. Seaborn calls plots that visualize this relationship \"relational plots\"."
   ]
  },
  {
   "cell_type": "markdown",
   "id": "82d4f23b-07e1-4d6e-b338-4f24ebdc703a",
   "metadata": {},
   "source": [
    "####  \"relplot()\". \"relplot()\" stands for \"relational plot\" and enables you to visualize the relationship between two quantitative variables using either scatter plots or line plots."
   ]
  },
  {
   "cell_type": "markdown",
   "id": "51d6c3c5-e3b6-4b7d-a663-e6b2e84d4625",
   "metadata": {},
   "source": [
    "#### Using \"relplot()\" gives us a big advantage: the ability to create subplots in a single figure."
   ]
  },
  {
   "cell_type": "code",
   "execution_count": 80,
   "id": "dc8cb33c-4b8f-46b8-b1fb-07f5bdae7c2d",
   "metadata": {},
   "outputs": [
    {
     "data": {
      "text/plain": [
       "<seaborn.axisgrid.FacetGrid at 0x7fc0ac87fd90>"
      ]
     },
     "execution_count": 80,
     "metadata": {},
     "output_type": "execute_result"
    },
    {
     "data": {
      "image/png": "[encoded data removed]",
      "text/plain": [
       "<Figure size 360x360 with 1 Axes>"
      ]
     },
     "metadata": {
      "needs_background": "light"
     },
     "output_type": "display_data"
    }
   ],
   "source": [
    "sns.relplot(x=\"Age\", y =\"Gls\" ,data=df, kind=\"scatter\")"
   ]
  },
  {
   "cell_type": "code",
   "execution_count": 24,
   "id": "5f15cf8b-5496-4046-924c-a63cbc00d9f6",
   "metadata": {},
   "outputs": [
    {
     "data": {
      "text/plain": [
       "<seaborn.axisgrid.FacetGrid at 0x7fb6cfb71280>"
      ]
     },
     "execution_count": 24,
     "metadata": {},
     "output_type": "execute_result"
    },
    {
     "data": {
      "image/png": "[encoded data removed]",
      "text/plain": [
       "<Figure size 720x720 with 4 Axes>"
      ]
     },
     "metadata": {
      "needs_background": "light"
     },
     "output_type": "display_data"
    }
   ],
   "source": [
    "df2 = df.iloc[0:4]\n",
    "sns.relplot(x=\"Age\", y =\"Gls\" ,data=df2, kind=\"scatter\",\n",
    "            col =\"Squad\",col_order=[\"Aston Villa\", \"Brighton\",\"Arsenal\",\"Brentford\"]\n",
    "           ,col_wrap = 2,s =150,color='r')\n",
    "\n",
    "#col warp decides no of colums\n",
    "#s decides size,color decides color or dot\n",
    "# col decides the value which dots represent\n"
   ]
  },
  {
   "cell_type": "code",
   "execution_count": 25,
   "id": "86a717f8-fc9e-4b31-9360-e50045b7cbb6",
   "metadata": {},
   "outputs": [
    {
     "data": {
      "text/plain": [
       "<seaborn.axisgrid.FacetGrid at 0x7fb6d02304f0>"
      ]
     },
     "execution_count": 25,
     "metadata": {},
     "output_type": "execute_result"
    },
    {
     "data": {
      "image/png": "[encoded data removed]",
      "text/plain": [
       "<Figure size 360x1440 with 4 Axes>"
      ]
     },
     "metadata": {
      "needs_background": "light"
     },
     "output_type": "display_data"
    }
   ],
   "source": [
    "sns.relplot(x=\"Age\", y =\"Gls\" ,data=df2, kind=\"scatter\",row =\"Squad\")"
   ]
  },
  {
   "cell_type": "markdown",
   "id": "6b8ce4a0-2889-463b-be24-aa555aa107b9",
   "metadata": {},
   "source": [
    "# ->Customizing scatter plots"
   ]
  },
  {
   "cell_type": "code",
   "execution_count": 93,
   "id": "6c2c25fd-0bc4-4eff-bfce-905b1a5f9bd9",
   "metadata": {},
   "outputs": [
    {
     "data": {
      "text/html": [
       "<div>\n",
       "<style scoped>\n",
       "    .dataframe tbody tr th:only-of-type {\n",
       "        vertical-align: middle;\n",
       "    }\n",
       "\n",
       "    .dataframe tbody tr th {\n",
       "        vertical-align: top;\n",
       "    }\n",
       "\n",
       "    .dataframe thead th {\n",
       "        text-align: right;\n",
       "    }\n",
       "</style>\n",
       "<table border=\"1\" class=\"dataframe\">\n",
       "  <thead>\n",
       "    <tr style=\"text-align: right;\">\n",
       "      <th></th>\n",
       "      <th>Squad</th>\n",
       "      <th># Pl</th>\n",
       "      <th>Age</th>\n",
       "      <th>Poss</th>\n",
       "      <th>MP</th>\n",
       "      <th>Starts</th>\n",
       "      <th>Min</th>\n",
       "      <th>90s</th>\n",
       "      <th>Gls</th>\n",
       "      <th>Ast</th>\n",
       "      <th>...</th>\n",
       "      <th>G+A-PKP90</th>\n",
       "      <th>xG</th>\n",
       "      <th>npxG</th>\n",
       "      <th>xA</th>\n",
       "      <th>npxG+xA</th>\n",
       "      <th>xGP90</th>\n",
       "      <th>xAP90</th>\n",
       "      <th>xG+xAP90</th>\n",
       "      <th>npxGP90</th>\n",
       "      <th>npxG+xAP90</th>\n",
       "    </tr>\n",
       "  </thead>\n",
       "  <tbody>\n",
       "    <tr>\n",
       "      <th>0</th>\n",
       "      <td>Arsenal</td>\n",
       "      <td>27</td>\n",
       "      <td>24.4</td>\n",
       "      <td>53.2</td>\n",
       "      <td>38</td>\n",
       "      <td>418</td>\n",
       "      <td>3420</td>\n",
       "      <td>38</td>\n",
       "      <td>60</td>\n",
       "      <td>41</td>\n",
       "      <td>...</td>\n",
       "      <td>2.53</td>\n",
       "      <td>59.9</td>\n",
       "      <td>54.0</td>\n",
       "      <td>36.8</td>\n",
       "      <td>90.8</td>\n",
       "      <td>1.58</td>\n",
       "      <td>0.97</td>\n",
       "      <td>2.54</td>\n",
       "      <td>1.42</td>\n",
       "      <td>2.39</td>\n",
       "    </tr>\n",
       "    <tr>\n",
       "      <th>1</th>\n",
       "      <td>Aston Villa</td>\n",
       "      <td>31</td>\n",
       "      <td>26.1</td>\n",
       "      <td>46.5</td>\n",
       "      <td>38</td>\n",
       "      <td>418</td>\n",
       "      <td>3420</td>\n",
       "      <td>38</td>\n",
       "      <td>50</td>\n",
       "      <td>42</td>\n",
       "      <td>...</td>\n",
       "      <td>2.34</td>\n",
       "      <td>44.0</td>\n",
       "      <td>41.8</td>\n",
       "      <td>33.6</td>\n",
       "      <td>75.4</td>\n",
       "      <td>1.16</td>\n",
       "      <td>0.88</td>\n",
       "      <td>2.04</td>\n",
       "      <td>1.10</td>\n",
       "      <td>1.98</td>\n",
       "    </tr>\n",
       "    <tr>\n",
       "      <th>2</th>\n",
       "      <td>Brentford</td>\n",
       "      <td>29</td>\n",
       "      <td>25.4</td>\n",
       "      <td>44.5</td>\n",
       "      <td>38</td>\n",
       "      <td>418</td>\n",
       "      <td>3420</td>\n",
       "      <td>38</td>\n",
       "      <td>46</td>\n",
       "      <td>33</td>\n",
       "      <td>...</td>\n",
       "      <td>1.92</td>\n",
       "      <td>47.8</td>\n",
       "      <td>43.3</td>\n",
       "      <td>33.0</td>\n",
       "      <td>76.2</td>\n",
       "      <td>1.26</td>\n",
       "      <td>0.87</td>\n",
       "      <td>2.13</td>\n",
       "      <td>1.14</td>\n",
       "      <td>2.01</td>\n",
       "    </tr>\n",
       "    <tr>\n",
       "      <th>3</th>\n",
       "      <td>Brighton</td>\n",
       "      <td>26</td>\n",
       "      <td>26.2</td>\n",
       "      <td>54.7</td>\n",
       "      <td>38</td>\n",
       "      <td>418</td>\n",
       "      <td>3420</td>\n",
       "      <td>38</td>\n",
       "      <td>40</td>\n",
       "      <td>30</td>\n",
       "      <td>...</td>\n",
       "      <td>1.74</td>\n",
       "      <td>46.0</td>\n",
       "      <td>40.7</td>\n",
       "      <td>29.1</td>\n",
       "      <td>69.8</td>\n",
       "      <td>1.21</td>\n",
       "      <td>0.77</td>\n",
       "      <td>1.98</td>\n",
       "      <td>1.07</td>\n",
       "      <td>1.84</td>\n",
       "    </tr>\n",
       "    <tr>\n",
       "      <th>4</th>\n",
       "      <td>Burnley</td>\n",
       "      <td>23</td>\n",
       "      <td>28.5</td>\n",
       "      <td>39.8</td>\n",
       "      <td>38</td>\n",
       "      <td>418</td>\n",
       "      <td>3420</td>\n",
       "      <td>38</td>\n",
       "      <td>32</td>\n",
       "      <td>26</td>\n",
       "      <td>...</td>\n",
       "      <td>1.50</td>\n",
       "      <td>39.0</td>\n",
       "      <td>37.4</td>\n",
       "      <td>27.7</td>\n",
       "      <td>65.1</td>\n",
       "      <td>1.03</td>\n",
       "      <td>0.73</td>\n",
       "      <td>1.75</td>\n",
       "      <td>0.99</td>\n",
       "      <td>1.71</td>\n",
       "    </tr>\n",
       "    <tr>\n",
       "      <th>5</th>\n",
       "      <td>Chelsea</td>\n",
       "      <td>26</td>\n",
       "      <td>27.4</td>\n",
       "      <td>62.3</td>\n",
       "      <td>38</td>\n",
       "      <td>418</td>\n",
       "      <td>3420</td>\n",
       "      <td>38</td>\n",
       "      <td>75</td>\n",
       "      <td>52</td>\n",
       "      <td>...</td>\n",
       "      <td>3.13</td>\n",
       "      <td>67.2</td>\n",
       "      <td>60.7</td>\n",
       "      <td>46.9</td>\n",
       "      <td>107.6</td>\n",
       "      <td>1.77</td>\n",
       "      <td>1.23</td>\n",
       "      <td>3.00</td>\n",
       "      <td>1.60</td>\n",
       "      <td>2.83</td>\n",
       "    </tr>\n",
       "    <tr>\n",
       "      <th>6</th>\n",
       "      <td>Crystal Palace</td>\n",
       "      <td>24</td>\n",
       "      <td>27.1</td>\n",
       "      <td>50.9</td>\n",
       "      <td>38</td>\n",
       "      <td>418</td>\n",
       "      <td>3420</td>\n",
       "      <td>38</td>\n",
       "      <td>50</td>\n",
       "      <td>31</td>\n",
       "      <td>...</td>\n",
       "      <td>1.97</td>\n",
       "      <td>46.4</td>\n",
       "      <td>40.3</td>\n",
       "      <td>29.5</td>\n",
       "      <td>69.8</td>\n",
       "      <td>1.22</td>\n",
       "      <td>0.78</td>\n",
       "      <td>2.00</td>\n",
       "      <td>1.06</td>\n",
       "      <td>1.84</td>\n",
       "    </tr>\n",
       "    <tr>\n",
       "      <th>7</th>\n",
       "      <td>Everton</td>\n",
       "      <td>33</td>\n",
       "      <td>26.7</td>\n",
       "      <td>39.7</td>\n",
       "      <td>38</td>\n",
       "      <td>418</td>\n",
       "      <td>3420</td>\n",
       "      <td>38</td>\n",
       "      <td>42</td>\n",
       "      <td>29</td>\n",
       "      <td>...</td>\n",
       "      <td>1.71</td>\n",
       "      <td>42.8</td>\n",
       "      <td>37.5</td>\n",
       "      <td>27.2</td>\n",
       "      <td>64.8</td>\n",
       "      <td>1.13</td>\n",
       "      <td>0.72</td>\n",
       "      <td>1.84</td>\n",
       "      <td>0.99</td>\n",
       "      <td>1.70</td>\n",
       "    </tr>\n",
       "    <tr>\n",
       "      <th>8</th>\n",
       "      <td>Leeds United</td>\n",
       "      <td>29</td>\n",
       "      <td>26.1</td>\n",
       "      <td>52.5</td>\n",
       "      <td>38</td>\n",
       "      <td>418</td>\n",
       "      <td>3420</td>\n",
       "      <td>38</td>\n",
       "      <td>42</td>\n",
       "      <td>26</td>\n",
       "      <td>...</td>\n",
       "      <td>1.66</td>\n",
       "      <td>47.2</td>\n",
       "      <td>43.4</td>\n",
       "      <td>31.1</td>\n",
       "      <td>74.5</td>\n",
       "      <td>1.24</td>\n",
       "      <td>0.82</td>\n",
       "      <td>2.06</td>\n",
       "      <td>1.14</td>\n",
       "      <td>1.96</td>\n",
       "    </tr>\n",
       "    <tr>\n",
       "      <th>9</th>\n",
       "      <td>Leicester City</td>\n",
       "      <td>28</td>\n",
       "      <td>26.5</td>\n",
       "      <td>52.1</td>\n",
       "      <td>38</td>\n",
       "      <td>418</td>\n",
       "      <td>3420</td>\n",
       "      <td>38</td>\n",
       "      <td>62</td>\n",
       "      <td>46</td>\n",
       "      <td>...</td>\n",
       "      <td>2.79</td>\n",
       "      <td>50.8</td>\n",
       "      <td>49.3</td>\n",
       "      <td>34.0</td>\n",
       "      <td>83.3</td>\n",
       "      <td>1.34</td>\n",
       "      <td>0.89</td>\n",
       "      <td>2.23</td>\n",
       "      <td>1.30</td>\n",
       "      <td>2.19</td>\n",
       "    </tr>\n",
       "    <tr>\n",
       "      <th>10</th>\n",
       "      <td>Liverpool</td>\n",
       "      <td>27</td>\n",
       "      <td>27.7</td>\n",
       "      <td>63.3</td>\n",
       "      <td>38</td>\n",
       "      <td>418</td>\n",
       "      <td>3420</td>\n",
       "      <td>38</td>\n",
       "      <td>94</td>\n",
       "      <td>71</td>\n",
       "      <td>...</td>\n",
       "      <td>4.16</td>\n",
       "      <td>89.2</td>\n",
       "      <td>83.5</td>\n",
       "      <td>60.1</td>\n",
       "      <td>143.5</td>\n",
       "      <td>2.35</td>\n",
       "      <td>1.58</td>\n",
       "      <td>3.93</td>\n",
       "      <td>2.20</td>\n",
       "      <td>3.78</td>\n",
       "    </tr>\n",
       "    <tr>\n",
       "      <th>11</th>\n",
       "      <td>Manchester City</td>\n",
       "      <td>26</td>\n",
       "      <td>27.0</td>\n",
       "      <td>68.5</td>\n",
       "      <td>38</td>\n",
       "      <td>418</td>\n",
       "      <td>3420</td>\n",
       "      <td>38</td>\n",
       "      <td>96</td>\n",
       "      <td>63</td>\n",
       "      <td>...</td>\n",
       "      <td>4.00</td>\n",
       "      <td>89.0</td>\n",
       "      <td>82.0</td>\n",
       "      <td>59.9</td>\n",
       "      <td>141.9</td>\n",
       "      <td>2.34</td>\n",
       "      <td>1.58</td>\n",
       "      <td>3.92</td>\n",
       "      <td>2.16</td>\n",
       "      <td>3.73</td>\n",
       "    </tr>\n",
       "    <tr>\n",
       "      <th>12</th>\n",
       "      <td>Manchester Utd</td>\n",
       "      <td>29</td>\n",
       "      <td>27.2</td>\n",
       "      <td>52.9</td>\n",
       "      <td>38</td>\n",
       "      <td>418</td>\n",
       "      <td>3420</td>\n",
       "      <td>38</td>\n",
       "      <td>56</td>\n",
       "      <td>46</td>\n",
       "      <td>...</td>\n",
       "      <td>2.61</td>\n",
       "      <td>54.8</td>\n",
       "      <td>51.0</td>\n",
       "      <td>40.6</td>\n",
       "      <td>91.7</td>\n",
       "      <td>1.44</td>\n",
       "      <td>1.07</td>\n",
       "      <td>2.51</td>\n",
       "      <td>1.34</td>\n",
       "      <td>2.41</td>\n",
       "    </tr>\n",
       "    <tr>\n",
       "      <th>13</th>\n",
       "      <td>Newcastle Utd</td>\n",
       "      <td>29</td>\n",
       "      <td>27.5</td>\n",
       "      <td>39.9</td>\n",
       "      <td>38</td>\n",
       "      <td>418</td>\n",
       "      <td>3420</td>\n",
       "      <td>38</td>\n",
       "      <td>41</td>\n",
       "      <td>23</td>\n",
       "      <td>...</td>\n",
       "      <td>1.61</td>\n",
       "      <td>40.3</td>\n",
       "      <td>38.0</td>\n",
       "      <td>25.9</td>\n",
       "      <td>63.9</td>\n",
       "      <td>1.06</td>\n",
       "      <td>0.68</td>\n",
       "      <td>1.74</td>\n",
       "      <td>1.00</td>\n",
       "      <td>1.68</td>\n",
       "    </tr>\n",
       "    <tr>\n",
       "      <th>14</th>\n",
       "      <td>Norwich City</td>\n",
       "      <td>28</td>\n",
       "      <td>26.2</td>\n",
       "      <td>42.5</td>\n",
       "      <td>38</td>\n",
       "      <td>418</td>\n",
       "      <td>3420</td>\n",
       "      <td>38</td>\n",
       "      <td>21</td>\n",
       "      <td>16</td>\n",
       "      <td>...</td>\n",
       "      <td>0.89</td>\n",
       "      <td>33.3</td>\n",
       "      <td>31.0</td>\n",
       "      <td>22.7</td>\n",
       "      <td>53.8</td>\n",
       "      <td>0.88</td>\n",
       "      <td>0.60</td>\n",
       "      <td>1.47</td>\n",
       "      <td>0.82</td>\n",
       "      <td>1.41</td>\n",
       "    </tr>\n",
       "    <tr>\n",
       "      <th>15</th>\n",
       "      <td>Southampton</td>\n",
       "      <td>25</td>\n",
       "      <td>25.7</td>\n",
       "      <td>47.9</td>\n",
       "      <td>38</td>\n",
       "      <td>418</td>\n",
       "      <td>3420</td>\n",
       "      <td>38</td>\n",
       "      <td>41</td>\n",
       "      <td>26</td>\n",
       "      <td>...</td>\n",
       "      <td>1.66</td>\n",
       "      <td>46.8</td>\n",
       "      <td>43.7</td>\n",
       "      <td>32.3</td>\n",
       "      <td>76.1</td>\n",
       "      <td>1.23</td>\n",
       "      <td>0.85</td>\n",
       "      <td>2.08</td>\n",
       "      <td>1.15</td>\n",
       "      <td>2.00</td>\n",
       "    </tr>\n",
       "    <tr>\n",
       "      <th>16</th>\n",
       "      <td>Tottenham</td>\n",
       "      <td>25</td>\n",
       "      <td>26.5</td>\n",
       "      <td>52.0</td>\n",
       "      <td>38</td>\n",
       "      <td>418</td>\n",
       "      <td>3420</td>\n",
       "      <td>38</td>\n",
       "      <td>63</td>\n",
       "      <td>50</td>\n",
       "      <td>...</td>\n",
       "      <td>2.84</td>\n",
       "      <td>65.1</td>\n",
       "      <td>61.4</td>\n",
       "      <td>49.3</td>\n",
       "      <td>110.7</td>\n",
       "      <td>1.71</td>\n",
       "      <td>1.30</td>\n",
       "      <td>3.01</td>\n",
       "      <td>1.62</td>\n",
       "      <td>2.91</td>\n",
       "    </tr>\n",
       "    <tr>\n",
       "      <th>17</th>\n",
       "      <td>Watford</td>\n",
       "      <td>30</td>\n",
       "      <td>28.4</td>\n",
       "      <td>40.3</td>\n",
       "      <td>38</td>\n",
       "      <td>418</td>\n",
       "      <td>3420</td>\n",
       "      <td>38</td>\n",
       "      <td>33</td>\n",
       "      <td>26</td>\n",
       "      <td>...</td>\n",
       "      <td>1.53</td>\n",
       "      <td>38.8</td>\n",
       "      <td>37.4</td>\n",
       "      <td>28.6</td>\n",
       "      <td>65.9</td>\n",
       "      <td>1.02</td>\n",
       "      <td>0.75</td>\n",
       "      <td>1.77</td>\n",
       "      <td>0.98</td>\n",
       "      <td>1.73</td>\n",
       "    </tr>\n",
       "    <tr>\n",
       "      <th>18</th>\n",
       "      <td>West Ham</td>\n",
       "      <td>25</td>\n",
       "      <td>28.2</td>\n",
       "      <td>47.8</td>\n",
       "      <td>38</td>\n",
       "      <td>418</td>\n",
       "      <td>3420</td>\n",
       "      <td>38</td>\n",
       "      <td>58</td>\n",
       "      <td>46</td>\n",
       "      <td>...</td>\n",
       "      <td>2.63</td>\n",
       "      <td>49.9</td>\n",
       "      <td>46.0</td>\n",
       "      <td>35.6</td>\n",
       "      <td>81.7</td>\n",
       "      <td>1.31</td>\n",
       "      <td>0.94</td>\n",
       "      <td>2.25</td>\n",
       "      <td>1.21</td>\n",
       "      <td>2.15</td>\n",
       "    </tr>\n",
       "    <tr>\n",
       "      <th>19</th>\n",
       "      <td>Wolves</td>\n",
       "      <td>26</td>\n",
       "      <td>27.3</td>\n",
       "      <td>49.6</td>\n",
       "      <td>38</td>\n",
       "      <td>418</td>\n",
       "      <td>3420</td>\n",
       "      <td>38</td>\n",
       "      <td>35</td>\n",
       "      <td>22</td>\n",
       "      <td>...</td>\n",
       "      <td>1.47</td>\n",
       "      <td>35.9</td>\n",
       "      <td>35.4</td>\n",
       "      <td>24.8</td>\n",
       "      <td>60.2</td>\n",
       "      <td>0.95</td>\n",
       "      <td>0.65</td>\n",
       "      <td>1.60</td>\n",
       "      <td>0.93</td>\n",
       "      <td>1.59</td>\n",
       "    </tr>\n",
       "  </tbody>\n",
       "</table>\n",
       "<p>20 rows × 29 columns</p>\n",
       "</div>"
      ],
      "text/plain": [
       "              Squad  # Pl   Age  Poss  MP  Starts   Min  90s  Gls  Ast  ...  \\\n",
       "0           Arsenal    27  24.4  53.2  38     418  3420   38   60   41  ...   \n",
       "1       Aston Villa    31  26.1  46.5  38     418  3420   38   50   42  ...   \n",
       "2         Brentford    29  25.4  44.5  38     418  3420   38   46   33  ...   \n",
       "3          Brighton    26  26.2  54.7  38     418  3420   38   40   30  ...   \n",
       "4           Burnley    23  28.5  39.8  38     418  3420   38   32   26  ...   \n",
       "5           Chelsea    26  27.4  62.3  38     418  3420   38   75   52  ...   \n",
       "6    Crystal Palace    24  27.1  50.9  38     418  3420   38   50   31  ...   \n",
       "7           Everton    33  26.7  39.7  38     418  3420   38   42   29  ...   \n",
       "8      Leeds United    29  26.1  52.5  38     418  3420   38   42   26  ...   \n",
       "9    Leicester City    28  26.5  52.1  38     418  3420   38   62   46  ...   \n",
       "10        Liverpool    27  27.7  63.3  38     418  3420   38   94   71  ...   \n",
       "11  Manchester City    26  27.0  68.5  38     418  3420   38   96   63  ...   \n",
       "12   Manchester Utd    29  27.2  52.9  38     418  3420   38   56   46  ...   \n",
       "13    Newcastle Utd    29  27.5  39.9  38     418  3420   38   41   23  ...   \n",
       "14     Norwich City    28  26.2  42.5  38     418  3420   38   21   16  ...   \n",
       "15      Southampton    25  25.7  47.9  38     418  3420   38   41   26  ...   \n",
       "16        Tottenham    25  26.5  52.0  38     418  3420   38   63   50  ...   \n",
       "17          Watford    30  28.4  40.3  38     418  3420   38   33   26  ...   \n",
       "18         West Ham    25  28.2  47.8  38     418  3420   38   58   46  ...   \n",
       "19           Wolves    26  27.3  49.6  38     418  3420   38   35   22  ...   \n",
       "\n",
       "    G+A-PKP90    xG  npxG    xA  npxG+xA  xGP90  xAP90  xG+xAP90  npxGP90  \\\n",
       "0        2.53  59.9  54.0  36.8     90.8   1.58   0.97      2.54     1.42   \n",
       "1        2.34  44.0  41.8  33.6     75.4   1.16   0.88      2.04     1.10   \n",
       "2        1.92  47.8  43.3  33.0     76.2   1.26   0.87      2.13     1.14   \n",
       "3        1.74  46.0  40.7  29.1     69.8   1.21   0.77      1.98     1.07   \n",
       "4        1.50  39.0  37.4  27.7     65.1   1.03   0.73      1.75     0.99   \n",
       "5        3.13  67.2  60.7  46.9    107.6   1.77   1.23      3.00     1.60   \n",
       "6        1.97  46.4  40.3  29.5     69.8   1.22   0.78      2.00     1.06   \n",
       "7        1.71  42.8  37.5  27.2     64.8   1.13   0.72      1.84     0.99   \n",
       "8        1.66  47.2  43.4  31.1     74.5   1.24   0.82      2.06     1.14   \n",
       "9        2.79  50.8  49.3  34.0     83.3   1.34   0.89      2.23     1.30   \n",
       "10       4.16  89.2  83.5  60.1    143.5   2.35   1.58      3.93     2.20   \n",
       "11       4.00  89.0  82.0  59.9    141.9   2.34   1.58      3.92     2.16   \n",
       "12       2.61  54.8  51.0  40.6     91.7   1.44   1.07      2.51     1.34   \n",
       "13       1.61  40.3  38.0  25.9     63.9   1.06   0.68      1.74     1.00   \n",
       "14       0.89  33.3  31.0  22.7     53.8   0.88   0.60      1.47     0.82   \n",
       "15       1.66  46.8  43.7  32.3     76.1   1.23   0.85      2.08     1.15   \n",
       "16       2.84  65.1  61.4  49.3    110.7   1.71   1.30      3.01     1.62   \n",
       "17       1.53  38.8  37.4  28.6     65.9   1.02   0.75      1.77     0.98   \n",
       "18       2.63  49.9  46.0  35.6     81.7   1.31   0.94      2.25     1.21   \n",
       "19       1.47  35.9  35.4  24.8     60.2   0.95   0.65      1.60     0.93   \n",
       "\n",
       "    npxG+xAP90  \n",
       "0         2.39  \n",
       "1         1.98  \n",
       "2         2.01  \n",
       "3         1.84  \n",
       "4         1.71  \n",
       "5         2.83  \n",
       "6         1.84  \n",
       "7         1.70  \n",
       "8         1.96  \n",
       "9         2.19  \n",
       "10        3.78  \n",
       "11        3.73  \n",
       "12        2.41  \n",
       "13        1.68  \n",
       "14        1.41  \n",
       "15        2.00  \n",
       "16        2.91  \n",
       "17        1.73  \n",
       "18        2.15  \n",
       "19        1.59  \n",
       "\n",
       "[20 rows x 29 columns]"
      ]
     },
     "execution_count": 93,
     "metadata": {},
     "output_type": "execute_result"
    }
   ],
   "source": [
    "df"
   ]
  },
  {
   "cell_type": "code",
   "execution_count": 100,
   "id": "3f12d0f6-81de-4240-b6b9-4a622e361733",
   "metadata": {},
   "outputs": [
    {
     "data": {
      "text/plain": [
       "<seaborn.axisgrid.FacetGrid at 0x7fc097c26eb0>"
      ]
     },
     "execution_count": 100,
     "metadata": {},
     "output_type": "execute_result"
    },
    {
     "data": {
      "image/png": "[encoded data removed]",
      "text/plain": [
       "<Figure size 477.125x360 with 1 Axes>"
      ]
     },
     "metadata": {
      "needs_background": "light"
     },
     "output_type": "display_data"
    }
   ],
   "source": [
    "sns.relplot(x=\"Ast\", y =\"Gls\" ,data=df, kind=\"scatter\",\n",
    "            size  =\"Age\",hue =\"Age\",style=\"Squad\",alpha =0.5) \n",
    "# style changes point style\n",
    "# aplha denotes transparency of dot "
   ]
  },
  {
   "cell_type": "markdown",
   "id": "e7a4f683-49c7-48ab-b31b-e01babd96691",
   "metadata": {},
   "source": [
    "# ->Introduction to line plots"
   ]
  },
  {
   "cell_type": "markdown",
   "id": "27a590b2-4e8d-4b7a-a553-eec26a8906c8",
   "metadata": {},
   "source": [
    "#### line plots are the visualization of choice when we need to track the same thing over time. A common example is tracking the value of a company's stock over time,"
   ]
  },
  {
   "cell_type": "code",
   "execution_count": 106,
   "id": "be2f04c0-a26c-4210-8b47-2d2e44df04d6",
   "metadata": {},
   "outputs": [
    {
     "data": {
      "text/html": [
       "<div>\n",
       "<style scoped>\n",
       "    .dataframe tbody tr th:only-of-type {\n",
       "        vertical-align: middle;\n",
       "    }\n",
       "\n",
       "    .dataframe tbody tr th {\n",
       "        vertical-align: top;\n",
       "    }\n",
       "\n",
       "    .dataframe thead th {\n",
       "        text-align: right;\n",
       "    }\n",
       "</style>\n",
       "<table border=\"1\" class=\"dataframe\">\n",
       "  <thead>\n",
       "    <tr style=\"text-align: right;\">\n",
       "      <th></th>\n",
       "      <th>Time</th>\n",
       "      <th>Age</th>\n",
       "    </tr>\n",
       "  </thead>\n",
       "  <tbody>\n",
       "    <tr>\n",
       "      <th>0</th>\n",
       "      <td>0</td>\n",
       "      <td>10</td>\n",
       "    </tr>\n",
       "    <tr>\n",
       "      <th>1</th>\n",
       "      <td>2</td>\n",
       "      <td>1</td>\n",
       "    </tr>\n",
       "    <tr>\n",
       "      <th>2</th>\n",
       "      <td>5</td>\n",
       "      <td>24</td>\n",
       "    </tr>\n",
       "  </tbody>\n",
       "</table>\n",
       "</div>"
      ],
      "text/plain": [
       "   Time  Age\n",
       "0     0   10\n",
       "1     2    1\n",
       "2     5   24"
      ]
     },
     "execution_count": 106,
     "metadata": {},
     "output_type": "execute_result"
    }
   ],
   "source": [
    "# initialize list of lists\n",
    "data = [[0, 10], [2, 1], [5, 24]]\n",
    " \n",
    "# Create the pandas DataFrame\n",
    "df = pd.DataFrame(data, columns = ['Time', 'Age'])\n",
    " \n",
    "# print dataframe.\n",
    "df"
   ]
  },
  {
   "cell_type": "code",
   "execution_count": 112,
   "id": "5760ee75-d462-472b-bd0b-2d3971f48f4d",
   "metadata": {},
   "outputs": [
    {
     "data": {
      "text/plain": [
       "<seaborn.axisgrid.FacetGrid at 0x7fc097b54dc0>"
      ]
     },
     "execution_count": 112,
     "metadata": {},
     "output_type": "execute_result"
    },
    {
     "data": {
      "image/png": "[encoded data removed]",
      "text/plain": [
       "<Figure size 360x360 with 1 Axes>"
      ]
     },
     "metadata": {
      "needs_background": "light"
     },
     "output_type": "display_data"
    }
   ],
   "source": [
    "sns.relplot(x=\"Time\", y =\"Age\" ,data=df, kind=\"line\")"
   ]
  },
  {
   "cell_type": "code",
   "execution_count": 108,
   "id": "eaf82024-10de-47f7-ac35-dddd498ed6a2",
   "metadata": {},
   "outputs": [],
   "source": [
    "df[\"Name\"] = [\"A\",\"B\",\"C\"]"
   ]
  },
  {
   "cell_type": "code",
   "execution_count": 109,
   "id": "f5eea69c-4e3c-461a-b45c-2104d09e16b8",
   "metadata": {},
   "outputs": [
    {
     "data": {
      "text/html": [
       "<div>\n",
       "<style scoped>\n",
       "    .dataframe tbody tr th:only-of-type {\n",
       "        vertical-align: middle;\n",
       "    }\n",
       "\n",
       "    .dataframe tbody tr th {\n",
       "        vertical-align: top;\n",
       "    }\n",
       "\n",
       "    .dataframe thead th {\n",
       "        text-align: right;\n",
       "    }\n",
       "</style>\n",
       "<table border=\"1\" class=\"dataframe\">\n",
       "  <thead>\n",
       "    <tr style=\"text-align: right;\">\n",
       "      <th></th>\n",
       "      <th>Time</th>\n",
       "      <th>Age</th>\n",
       "      <th>Name</th>\n",
       "    </tr>\n",
       "  </thead>\n",
       "  <tbody>\n",
       "    <tr>\n",
       "      <th>0</th>\n",
       "      <td>0</td>\n",
       "      <td>10</td>\n",
       "      <td>A</td>\n",
       "    </tr>\n",
       "    <tr>\n",
       "      <th>1</th>\n",
       "      <td>2</td>\n",
       "      <td>1</td>\n",
       "      <td>B</td>\n",
       "    </tr>\n",
       "    <tr>\n",
       "      <th>2</th>\n",
       "      <td>5</td>\n",
       "      <td>24</td>\n",
       "      <td>C</td>\n",
       "    </tr>\n",
       "  </tbody>\n",
       "</table>\n",
       "</div>"
      ],
      "text/plain": [
       "   Time  Age Name\n",
       "0     0   10    A\n",
       "1     2    1    B\n",
       "2     5   24    C"
      ]
     },
     "execution_count": 109,
     "metadata": {},
     "output_type": "execute_result"
    }
   ],
   "source": [
    "df"
   ]
  },
  {
   "cell_type": "code",
   "execution_count": 116,
   "id": "436e756f-adc2-4128-9d69-38d804845071",
   "metadata": {},
   "outputs": [
    {
     "data": {
      "text/plain": [
       "<seaborn.axisgrid.FacetGrid at 0x7fc0987e2970>"
      ]
     },
     "execution_count": 116,
     "metadata": {},
     "output_type": "execute_result"
    },
    {
     "data": {
      "image/png": "[encoded data removed]",
      "text/plain": [
       "<Figure size 402.875x360 with 1 Axes>"
      ]
     },
     "metadata": {
      "needs_background": "light"
     },
     "output_type": "display_data"
    }
   ],
   "source": [
    "sns.relplot(x=\"Time\", y =\"Age\" ,data=df, kind=\"line\",style =\"Name\",hue =\"Name\",markers = True)"
   ]
  },
  {
   "cell_type": "markdown",
   "id": "8591aaf0-6e09-4a14-92a8-6342c83aebfd",
   "metadata": {},
   "source": [
    "### Visualizing standard deviation with line plots"
   ]
  },
  {
   "cell_type": "code",
   "execution_count": 117,
   "id": "e16c72f1-635c-45c9-9aa8-7b0ce922a764",
   "metadata": {},
   "outputs": [
    {
     "data": {
      "text/plain": [
       "<seaborn.axisgrid.FacetGrid at 0x7fc0988b8880>"
      ]
     },
     "execution_count": 117,
     "metadata": {},
     "output_type": "execute_result"
    },
    {
     "data": {
      "image/png": "[encoded data removed]",
      "text/plain": [
       "<Figure size 360x360 with 1 Axes>"
      ]
     },
     "metadata": {
      "needs_background": "light"
     },
     "output_type": "display_data"
    }
   ],
   "source": [
    "sns.relplot(x=\"Time\", y =\"Age\" ,data=df, kind=\"line\",ci=\"sd\")\n",
    "### used when x is mutiple and has different values , means many rows in x value\n",
    "### set ci= None to turn off"
   ]
  },
  {
   "cell_type": "raw",
   "id": "82d18216-cd01-45d6-b85d-28cf596950f8",
   "metadata": {},
   "source": [
    "# Add markers and make each line have the same style\n",
    "sns.relplot(x=\"model_year\", y=\"horsepower\", \n",
    "            data=mpg, kind=\"line\", \n",
    "            ci=None, style=\"origin\", \n",
    "            hue=\"origin\", markers=True,\n",
    "            dashes=False)"
   ]
  },
  {
   "cell_type": "markdown",
   "id": "4d7b2fea-72cc-41e5-a781-5d275c8084cf",
   "metadata": {},
   "source": [
    "# PART 3 -Visualizing a Categorical and a Quantitative Variable"
   ]
  },
  {
   "cell_type": "markdown",
   "id": "c2816290-f63d-4a42-832a-c517356ee2bd",
   "metadata": {},
   "source": [
    "# ->Count plots and bar plots"
   ]
  },
  {
   "cell_type": "markdown",
   "id": "df1412db-64d2-4e7b-b8ff-cbe7e79d1f2b",
   "metadata": {},
   "source": [
    "#### Count plots and bar plots are two types of visualizations that Seaborn calls \"categorical plots\". Categorical plots involve a categorical variable, which is a variable that consists of a fixed, typically small number of possible values, or categories. These types of plots are commonly used when we want to make comparisons between different groups"
   ]
  },
  {
   "cell_type": "markdown",
   "id": "2efe1cb6-7bc9-4d66-bb7e-67977a54517a",
   "metadata": {},
   "source": [
    "#### \"catplot()\" offers the same flexibility that \"relplot()\" does, which means it will be easy to create subplots if we need to using the same \"col\" and \"row\" parameters"
   ]
  },
  {
   "cell_type": "code",
   "execution_count": 30,
   "id": "c4fe328a-94f2-4324-9cf7-e97465a6c37f",
   "metadata": {},
   "outputs": [
    {
     "data": {
      "image/png": "[encoded data removed]",
      "text/plain": [
       "<Figure size 360x360 with 1 Axes>"
      ]
     },
     "metadata": {
      "needs_background": "light"
     },
     "output_type": "display_data"
    }
   ],
   "source": [
    "\n",
    "\n",
    "# Create count plot of internet usage\n",
    "sns.catplot(x=\"Ast\",data=df2,\n",
    "            kind=\"count\")\n",
    "\n",
    "# Show plot\n",
    "plt.show()"
   ]
  },
  {
   "cell_type": "code",
   "execution_count": 31,
   "id": "553c8aa9-7cef-43f5-9c4b-26c264e6550d",
   "metadata": {},
   "outputs": [
    {
     "data": {
      "image/png": "[encoded data removed]",
      "text/plain": [
       "<Figure size 360x360 with 1 Axes>"
      ]
     },
     "metadata": {
      "needs_background": "light"
     },
     "output_type": "display_data"
    }
   ],
   "source": [
    "# Create count plot of internet usage\n",
    "sns.catplot(y=\"Ast\",data=df2,\n",
    "            kind=\"count\")\n",
    "\n",
    "# Show plot\n",
    "plt.show()"
   ]
  },
  {
   "cell_type": "code",
   "execution_count": 32,
   "id": "a2c0439d-0102-4694-8610-0b6096cea296",
   "metadata": {},
   "outputs": [
    {
     "data": {
      "image/png": "[encoded data removed]",
      "text/plain": [
       "<Figure size 1440x360 with 4 Axes>"
      ]
     },
     "metadata": {
      "needs_background": "light"
     },
     "output_type": "display_data"
    }
   ],
   "source": [
    "# Create count plot of internet usage\n",
    "sns.catplot(x=\"Ast\",data=df2,\n",
    "            kind=\"count\",col=\"Squad\")\n",
    "\n",
    "# Show plot\n",
    "plt.show()"
   ]
  },
  {
   "cell_type": "code",
   "execution_count": 39,
   "id": "194f8e6a-6e3c-4e40-ae2e-439d35b88fb6",
   "metadata": {},
   "outputs": [
    {
     "data": {
      "image/png": "[encoded data removed]",
      "text/plain": [
       "<Figure size 360x360 with 1 Axes>"
      ]
     },
     "metadata": {
      "needs_background": "light"
     },
     "output_type": "display_data"
    }
   ],
   "source": [
    "# List of categories from lowest to highest\n",
    "ca = [\"Brighton\", \n",
    "                  \"Brentford\", \n",
    "                  \"Arsenal\", \n",
    "                  \"Aston Villa\"]\n",
    "\n",
    "\n",
    "\n",
    "# Create a bar plot of interest in math, separated by gender\n",
    "sns.catplot(y=\"Gls\", x=\"Squad\",\n",
    "            data=df2, kind=\"bar\",order =ca,ci =None)\n",
    "\n",
    "# Show plot\n",
    "plt.show()"
   ]
  },
  {
   "cell_type": "markdown",
   "id": "70e649bd-0279-48fd-8a26-dceb38504f0c",
   "metadata": {},
   "source": [
    "# -> Box Plots"
   ]
  },
  {
   "cell_type": "markdown",
   "id": "dffbd6c6-bc00-4d82-a986-2e7fbb4021ab",
   "metadata": {},
   "source": [
    "#### A box plot shows the distribution of quantitative data. The colored box represents the 25th to 75th percentile, and the line in the middle of the box represents the median. The whiskers give a sense of the spread of the distribution, and the floating points represent outliers. Box plots are commonly used as a way to compare the distribution of a quantitative variable across different groups of a categorical variable."
   ]
  },
  {
   "cell_type": "markdown",
   "id": "c0e0ab7c-8fe1-493e-a51d-396f0615a4a6",
   "metadata": {},
   "source": [
    "#### you may want to omit the outliers from your box plot. You can do this using the \"sym\" parameter. If you pass an empty string into \"sym\", it will omit the outliers from your plot altogether. \"Sym\" can also be used to change the appearance of the outliers instead of omitting them."
   ]
  },
  {
   "cell_type": "markdown",
   "id": "25801b0f-a8e3-47c2-add1-c35df9ae4958",
   "metadata": {},
   "source": [
    "#### By default, the whiskers extend to 1 point 5 times the interquartile range, or \"IQR\". The IQR is the 25th to the 75th percentile of a distribution of data. If you want to change the way the whiskers in your box plot are defined, you can do this using the \"whis\" parameter. There are several options for changing the whiskers. You can change the range of the whiskers from 1 point 5 times the IQR (which is the default) to 2 times the IQR by setting \"whis\" equal to 2 point 0. Alternatively, you can have the whiskers define specific lower and upper percentiles by passing in a list of the lower and upper values. In this example, passing in \"[5, 95]\" will result in the lower whisker being drawn at the 5th percentile and the upper whisker being drawn at the 95th percentile. Finally, you may just want to draw the whiskers at the min and max values. You can do this by specifying the lower percentile as 0 and the upper percentile as 100."
   ]
  },
  {
   "cell_type": "code",
   "execution_count": 50,
   "id": "1eed7871-f4fc-4b1e-821f-3ebc5e4ee8e5",
   "metadata": {},
   "outputs": [
    {
     "data": {
      "text/html": [
       "<div>\n",
       "<style scoped>\n",
       "    .dataframe tbody tr th:only-of-type {\n",
       "        vertical-align: middle;\n",
       "    }\n",
       "\n",
       "    .dataframe tbody tr th {\n",
       "        vertical-align: top;\n",
       "    }\n",
       "\n",
       "    .dataframe thead th {\n",
       "        text-align: right;\n",
       "    }\n",
       "</style>\n",
       "<table border=\"1\" class=\"dataframe\">\n",
       "  <thead>\n",
       "    <tr style=\"text-align: right;\">\n",
       "      <th></th>\n",
       "      <th>Name</th>\n",
       "      <th>Age</th>\n",
       "    </tr>\n",
       "  </thead>\n",
       "  <tbody>\n",
       "    <tr>\n",
       "      <th>0</th>\n",
       "      <td>A</td>\n",
       "      <td>10</td>\n",
       "    </tr>\n",
       "    <tr>\n",
       "      <th>1</th>\n",
       "      <td>A</td>\n",
       "      <td>15</td>\n",
       "    </tr>\n",
       "    <tr>\n",
       "      <th>2</th>\n",
       "      <td>A</td>\n",
       "      <td>12</td>\n",
       "    </tr>\n",
       "    <tr>\n",
       "      <th>3</th>\n",
       "      <td>B</td>\n",
       "      <td>17</td>\n",
       "    </tr>\n",
       "    <tr>\n",
       "      <th>4</th>\n",
       "      <td>B</td>\n",
       "      <td>21</td>\n",
       "    </tr>\n",
       "    <tr>\n",
       "      <th>5</th>\n",
       "      <td>B</td>\n",
       "      <td>1</td>\n",
       "    </tr>\n",
       "    <tr>\n",
       "      <th>6</th>\n",
       "      <td>C</td>\n",
       "      <td>23</td>\n",
       "    </tr>\n",
       "    <tr>\n",
       "      <th>7</th>\n",
       "      <td>C</td>\n",
       "      <td>10</td>\n",
       "    </tr>\n",
       "    <tr>\n",
       "      <th>8</th>\n",
       "      <td>C</td>\n",
       "      <td>30</td>\n",
       "    </tr>\n",
       "    <tr>\n",
       "      <th>9</th>\n",
       "      <td>A</td>\n",
       "      <td>16</td>\n",
       "    </tr>\n",
       "    <tr>\n",
       "      <th>10</th>\n",
       "      <td>A</td>\n",
       "      <td>5</td>\n",
       "    </tr>\n",
       "    <tr>\n",
       "      <th>11</th>\n",
       "      <td>A</td>\n",
       "      <td>2</td>\n",
       "    </tr>\n",
       "    <tr>\n",
       "      <th>12</th>\n",
       "      <td>B</td>\n",
       "      <td>27</td>\n",
       "    </tr>\n",
       "    <tr>\n",
       "      <th>13</th>\n",
       "      <td>B</td>\n",
       "      <td>25</td>\n",
       "    </tr>\n",
       "    <tr>\n",
       "      <th>14</th>\n",
       "      <td>B</td>\n",
       "      <td>12</td>\n",
       "    </tr>\n",
       "    <tr>\n",
       "      <th>15</th>\n",
       "      <td>C</td>\n",
       "      <td>43</td>\n",
       "    </tr>\n",
       "    <tr>\n",
       "      <th>16</th>\n",
       "      <td>C</td>\n",
       "      <td>20</td>\n",
       "    </tr>\n",
       "    <tr>\n",
       "      <th>17</th>\n",
       "      <td>C</td>\n",
       "      <td>30</td>\n",
       "    </tr>\n",
       "  </tbody>\n",
       "</table>\n",
       "</div>"
      ],
      "text/plain": [
       "   Name  Age\n",
       "0     A   10\n",
       "1     A   15\n",
       "2     A   12\n",
       "3     B   17\n",
       "4     B   21\n",
       "5     B    1\n",
       "6     C   23\n",
       "7     C   10\n",
       "8     C   30\n",
       "9     A   16\n",
       "10    A    5\n",
       "11    A    2\n",
       "12    B   27\n",
       "13    B   25\n",
       "14    B   12\n",
       "15    C   43\n",
       "16    C   20\n",
       "17    C   30"
      ]
     },
     "execution_count": 50,
     "metadata": {},
     "output_type": "execute_result"
    }
   ],
   "source": [
    "# initialize list of lists\n",
    "data = [[\"A\", 10],[\"A\", 15],[\"A\", 12],[\"B\", 17],\n",
    "        [\"B\", 21],[\"B\", 1],[\"C\", 23],[\"C\", 10],[\"C\", 30],\n",
    "        [\"A\", 16],[\"A\", 5],[\"A\", 2],[\"B\", 27],\n",
    "        [\"B\", 25],[\"B\", 12],[\"C\", 43],[\"C\", 20],[\"C\", 30]]\n",
    " \n",
    "# Create the pandas DataFrame\n",
    "df = pd.DataFrame(data, columns = ['Name', 'Age'])\n",
    " \n",
    "# print dataframe.\n",
    "df"
   ]
  },
  {
   "cell_type": "code",
   "execution_count": 51,
   "id": "f5823c8c-ee04-4e81-a07c-20d7b97a2ca6",
   "metadata": {},
   "outputs": [
    {
     "data": {
      "image/png": "[encoded data removed]",
      "text/plain": [
       "<Figure size 360x360 with 1 Axes>"
      ]
     },
     "metadata": {
      "needs_background": "light"
     },
     "output_type": "display_data"
    }
   ],
   "source": [
    "# Specify the category ordering\n",
    "study_time_order = [\"A\", \"B\", \n",
    "                    \"C\"]\n",
    "\n",
    "# Create a box plot and set the order of the categories\n",
    "\n",
    "sns.catplot(x=\"Name\",y=\"Age\",data  = df,kind= \"box\",order = study_time_order)\n",
    "\n",
    "\n",
    "\n",
    "# Show plot\n",
    "plt.show()"
   ]
  },
  {
   "cell_type": "markdown",
   "id": "587a4333-c220-4da9-aac2-0f9f4c27d982",
   "metadata": {},
   "source": [
    "#### line in box shows median\n",
    "#### box upper and lower represents 25 to 75 percentile\n",
    "####  t lines represent max and min values"
   ]
  },
  {
   "cell_type": "code",
   "execution_count": 53,
   "id": "568af73c-2e01-46f8-a842-d5ae20aa9527",
   "metadata": {},
   "outputs": [
    {
     "data": {
      "text/html": [
       "<div>\n",
       "<style scoped>\n",
       "    .dataframe tbody tr th:only-of-type {\n",
       "        vertical-align: middle;\n",
       "    }\n",
       "\n",
       "    .dataframe tbody tr th {\n",
       "        vertical-align: top;\n",
       "    }\n",
       "\n",
       "    .dataframe thead th {\n",
       "        text-align: right;\n",
       "    }\n",
       "</style>\n",
       "<table border=\"1\" class=\"dataframe\">\n",
       "  <thead>\n",
       "    <tr style=\"text-align: right;\">\n",
       "      <th></th>\n",
       "      <th>Name</th>\n",
       "      <th>Age</th>\n",
       "      <th>Place</th>\n",
       "    </tr>\n",
       "  </thead>\n",
       "  <tbody>\n",
       "    <tr>\n",
       "      <th>0</th>\n",
       "      <td>A</td>\n",
       "      <td>10</td>\n",
       "      <td>Urban</td>\n",
       "    </tr>\n",
       "    <tr>\n",
       "      <th>1</th>\n",
       "      <td>A</td>\n",
       "      <td>15</td>\n",
       "      <td>Rural</td>\n",
       "    </tr>\n",
       "    <tr>\n",
       "      <th>2</th>\n",
       "      <td>A</td>\n",
       "      <td>12</td>\n",
       "      <td>Urban</td>\n",
       "    </tr>\n",
       "    <tr>\n",
       "      <th>3</th>\n",
       "      <td>B</td>\n",
       "      <td>17</td>\n",
       "      <td>Rural</td>\n",
       "    </tr>\n",
       "    <tr>\n",
       "      <th>4</th>\n",
       "      <td>B</td>\n",
       "      <td>21</td>\n",
       "      <td>Urban</td>\n",
       "    </tr>\n",
       "    <tr>\n",
       "      <th>5</th>\n",
       "      <td>B</td>\n",
       "      <td>1</td>\n",
       "      <td>Rural</td>\n",
       "    </tr>\n",
       "    <tr>\n",
       "      <th>6</th>\n",
       "      <td>C</td>\n",
       "      <td>23</td>\n",
       "      <td>Urban</td>\n",
       "    </tr>\n",
       "    <tr>\n",
       "      <th>7</th>\n",
       "      <td>C</td>\n",
       "      <td>10</td>\n",
       "      <td>Rural</td>\n",
       "    </tr>\n",
       "    <tr>\n",
       "      <th>8</th>\n",
       "      <td>C</td>\n",
       "      <td>30</td>\n",
       "      <td>Urban</td>\n",
       "    </tr>\n",
       "    <tr>\n",
       "      <th>9</th>\n",
       "      <td>A</td>\n",
       "      <td>16</td>\n",
       "      <td>Urban</td>\n",
       "    </tr>\n",
       "    <tr>\n",
       "      <th>10</th>\n",
       "      <td>A</td>\n",
       "      <td>5</td>\n",
       "      <td>Rural</td>\n",
       "    </tr>\n",
       "    <tr>\n",
       "      <th>11</th>\n",
       "      <td>A</td>\n",
       "      <td>2</td>\n",
       "      <td>Urban</td>\n",
       "    </tr>\n",
       "    <tr>\n",
       "      <th>12</th>\n",
       "      <td>B</td>\n",
       "      <td>27</td>\n",
       "      <td>Rural</td>\n",
       "    </tr>\n",
       "    <tr>\n",
       "      <th>13</th>\n",
       "      <td>B</td>\n",
       "      <td>25</td>\n",
       "      <td>Urban</td>\n",
       "    </tr>\n",
       "    <tr>\n",
       "      <th>14</th>\n",
       "      <td>B</td>\n",
       "      <td>12</td>\n",
       "      <td>Rural</td>\n",
       "    </tr>\n",
       "    <tr>\n",
       "      <th>15</th>\n",
       "      <td>C</td>\n",
       "      <td>43</td>\n",
       "      <td>Urban</td>\n",
       "    </tr>\n",
       "    <tr>\n",
       "      <th>16</th>\n",
       "      <td>C</td>\n",
       "      <td>20</td>\n",
       "      <td>Rural</td>\n",
       "    </tr>\n",
       "    <tr>\n",
       "      <th>17</th>\n",
       "      <td>C</td>\n",
       "      <td>30</td>\n",
       "      <td>Urban</td>\n",
       "    </tr>\n",
       "  </tbody>\n",
       "</table>\n",
       "</div>"
      ],
      "text/plain": [
       "   Name  Age  Place\n",
       "0     A   10  Urban\n",
       "1     A   15  Rural\n",
       "2     A   12  Urban\n",
       "3     B   17  Rural\n",
       "4     B   21  Urban\n",
       "5     B    1  Rural\n",
       "6     C   23  Urban\n",
       "7     C   10  Rural\n",
       "8     C   30  Urban\n",
       "9     A   16  Urban\n",
       "10    A    5  Rural\n",
       "11    A    2  Urban\n",
       "12    B   27  Rural\n",
       "13    B   25  Urban\n",
       "14    B   12  Rural\n",
       "15    C   43  Urban\n",
       "16    C   20  Rural\n",
       "17    C   30  Urban"
      ]
     },
     "execution_count": 53,
     "metadata": {},
     "output_type": "execute_result"
    }
   ],
   "source": [
    "df[\"Place\"] =  [\"Urban\", \"Rural\",\"Urban\", \"Rural\",\"Urban\", \n",
    "                 \"Rural\",\"Urban\", \"Rural\",\"Urban\",\"Urban\", \"Rural\",\"Urban\", \"Rural\",\"Urban\", \n",
    "                 \"Rural\",\"Urban\", \"Rural\",\"Urban\"]\n",
    "df"
   ]
  },
  {
   "cell_type": "code",
   "execution_count": 59,
   "id": "244dbc78-c348-47fd-84d5-a2d6569f3b8d",
   "metadata": {},
   "outputs": [
    {
     "data": {
      "image/png": "[encoded data removed]",
      "text/plain": [
       "<Figure size 426.25x360 with 1 Axes>"
      ]
     },
     "metadata": {
      "needs_background": "light"
     },
     "output_type": "display_data"
    }
   ],
   "source": [
    "# Create a box plot with subgroups and omit the outliers\n",
    "sns.catplot(x=\"Name\", y=\"Age\",\n",
    "            data=df,\n",
    "            kind=\"box\",\n",
    "            hue=\"Place\",\n",
    "            sym=\"\")   #sym decides outlier type \n",
    "\n",
    "# Show plot\n",
    "plt.show()"
   ]
  },
  {
   "cell_type": "code",
   "execution_count": 65,
   "id": "caded44c-2f4d-40e0-ab82-16295039b2ad",
   "metadata": {},
   "outputs": [
    {
     "data": {
      "image/png": "[encoded data removed]",
      "text/plain": [
       "<Figure size 426.25x360 with 1 Axes>"
      ]
     },
     "metadata": {
      "needs_background": "light"
     },
     "output_type": "display_data"
    }
   ],
   "source": [
    "# Create a box plot with subgroups and omit the outliers\n",
    "sns.catplot(x=\"Name\", y=\"Age\",\n",
    "            data=df,\n",
    "            kind=\"box\",\n",
    "            hue=\"Place\",\n",
    "            sym=\"\",whis=0.5)   #sym decides outlier type \n",
    "\n",
    "# Show plot\n",
    "plt.show()"
   ]
  },
  {
   "cell_type": "code",
   "execution_count": 71,
   "id": "f8f7746d-bbdd-47d8-bc99-27b508529205",
   "metadata": {},
   "outputs": [
    {
     "data": {
      "image/png": "[encoded data removed]",
      "text/plain": [
       "<Figure size 426.25x360 with 1 Axes>"
      ]
     },
     "metadata": {
      "needs_background": "light"
     },
     "output_type": "display_data"
    }
   ],
   "source": [
    "# Create a box plot with subgroups and omit the outliers\n",
    "sns.catplot(x=\"Name\", y=\"Age\",\n",
    "            data=df,\n",
    "            kind=\"box\",\n",
    "            hue=\"Place\",\n",
    "            sym=\"\",whis=[0,100])   #sym decides outlier type \n",
    "\n",
    "# Show plot\n",
    "plt.show()"
   ]
  },
  {
   "cell_type": "markdown",
   "id": "cfeb35fa-e588-45b1-befa-8ff45d8e56c0",
   "metadata": {},
   "source": [
    "# ->Point plots"
   ]
  },
  {
   "cell_type": "markdown",
   "id": "ca3e2acd-589f-42c6-bfae-7d14c4f5401d",
   "metadata": {},
   "source": [
    "#### Point plots show the mean of a quantitative variable for the observations in each category, plotted as a single point. This point plot uses the tips dataset and shows the average bill among smokers versus non-smokers. The vertical bars extending above and below the mean represent the 95% confidence intervals for that mean. Just like the confidence intervals we saw in line plots and bar plots, these confidence intervals show us the level of uncertainty we have about these mean estimates. Assuming our data is a random sample of some population, we can be 95% sure that the true population mean in each group lies within the confidence interval shown."
   ]
  },
  {
   "cell_type": "markdown",
   "id": "579862c9-79e2-4620-b530-f0ddff29db8a",
   "metadata": {},
   "source": [
    "#### 4. Point plots vs. line plots\n",
    "Both line plots and point plots show the mean of a quantitative variable and 95% confidence intervals for the mean. However, there is a key difference. Line plots are relational plots, so both the x- and y-axis are quantitative variables. In a point plot, one axis - usually the x-axis - is a categorical variable, making it a categorical plot.\n",
    "\n",
    "#### 5. Point plots vs. bar plots\n",
    "You may also be thinking: point plots seem to show the same information as bar plots. For each category, both show the mean of a quantitative variable and the confidence intervals for those means. When should we use one over the other? Let's look at an example using data from the masculinity survey that we've seen in prior lessons."
   ]
  },
  {
   "cell_type": "code",
   "execution_count": 72,
   "id": "a5f31a6f-c859-4dc2-8034-fd65e565af5e",
   "metadata": {},
   "outputs": [
    {
     "data": {
      "image/png": "[encoded data removed]",
      "text/plain": [
       "<Figure size 360x360 with 1 Axes>"
      ]
     },
     "metadata": {
      "needs_background": "light"
     },
     "output_type": "display_data"
    }
   ],
   "source": [
    "# Create a point plot of family relationship vs. absences\n",
    "sns.catplot(x=\"Name\", y=\"Age\",\n",
    "\t\t\tdata=df,\n",
    "            kind=\"point\")\n",
    "            \n",
    "# Show plot\n",
    "plt.show()"
   ]
  },
  {
   "cell_type": "code",
   "execution_count": 74,
   "id": "f817da7d-dc74-4897-b342-5b9691dfa7b4",
   "metadata": {},
   "outputs": [
    {
     "data": {
      "image/png": "[encoded data removed]",
      "text/plain": [
       "<Figure size 360x360 with 1 Axes>"
      ]
     },
     "metadata": {
      "needs_background": "light"
     },
     "output_type": "display_data"
    }
   ],
   "source": [
    "# Create a point plot of family relationship vs. absences\n",
    "sns.catplot(x=\"Name\", y=\"Age\",\n",
    "\t\t\tdata=df,\n",
    "            kind=\"point\",capsize =0.5)\n",
    "            \n",
    "# Show plot\n",
    "plt.show()"
   ]
  },
  {
   "cell_type": "code",
   "execution_count": 76,
   "id": "d8e7051f-0022-431c-bef9-b4b2d53b234b",
   "metadata": {},
   "outputs": [
    {
     "data": {
      "image/png": "[encoded data removed]",
      "text/plain": [
       "<Figure size 426.25x360 with 1 Axes>"
      ]
     },
     "metadata": {
      "needs_background": "light"
     },
     "output_type": "display_data"
    }
   ],
   "source": [
    "# Create a point plot of family relationship vs. absences\n",
    "sns.catplot(x=\"Name\", y=\"Age\",\n",
    "\t\t\tdata=df,\n",
    "            kind=\"point\",hue=\"Place\",capsize =0.5,join=False)\n",
    "            \n",
    "# Show plot\n",
    "plt.show()"
   ]
  },
  {
   "cell_type": "code",
   "execution_count": 78,
   "id": "a1901013-6b36-463b-9aa3-eb86c968f92c",
   "metadata": {},
   "outputs": [
    {
     "data": {
      "image/png": "[encoded data removed]",
      "text/plain": [
       "<Figure size 426.25x360 with 1 Axes>"
      ]
     },
     "metadata": {
      "needs_background": "light"
     },
     "output_type": "display_data"
    }
   ],
   "source": [
    "# Create a point plot of family relationship vs. absences\n",
    "sns.catplot(x=\"Name\", y=\"Age\",\n",
    "\t\t\tdata=df,\n",
    "            kind=\"point\",hue=\"Place\",capsize =0.5,ci=None)\n",
    "            \n",
    "# Show plot\n",
    "plt.show()"
   ]
  },
  {
   "cell_type": "code",
   "execution_count": 81,
   "id": "2bc2312c-cd55-44c8-a2d0-0206034d655e",
   "metadata": {},
   "outputs": [
    {
     "data": {
      "image/png": "[encoded data removed]",
      "text/plain": [
       "<Figure size 426.25x360 with 1 Axes>"
      ]
     },
     "metadata": {
      "needs_background": "light"
     },
     "output_type": "display_data"
    }
   ],
   "source": [
    "# Import median function from numpy\n",
    "from numpy import median\n",
    "# Create a point plot of family relationship vs. absences\n",
    "sns.catplot(x=\"Name\", y=\"Age\",\n",
    "\t\t\tdata=df,\n",
    "            kind=\"point\",hue=\"Place\",capsize =0.5,ci=None, estimator=median)\n",
    "            \n",
    "# Show plot\n",
    "plt.show()"
   ]
  },
  {
   "cell_type": "markdown",
   "id": "66349f76-44fe-4d27-bc7f-065c39bc85aa",
   "metadata": {},
   "source": [
    "# PART 4 - Customizing Seaborn Plots"
   ]
  },
  {
   "cell_type": "markdown",
   "id": "63bc307f-6b52-465c-b732-59d73778682c",
   "metadata": {},
   "source": [
    "# ->Changing plot style and color\n"
   ]
  },
  {
   "cell_type": "markdown",
   "id": "95982cc1-1fad-4c81-93b4-2049c8e02e34",
   "metadata": {},
   "source": [
    "#### Seaborn has five preset figure styles which change the background and axes of the plot. You can refer to them by name: \"white\", \"dark\", \"whitegrid\", \"darkgrid\", and \"ticks\". To set one of these as the global style for all of your plots, use the \"set style\" function."
   ]
  },
  {
   "cell_type": "markdown",
   "id": "a2401105-6de4-4327-bbba-e077a1b79bf1",
   "metadata": {},
   "source": [
    "#### You can change the color of the main elements of the plot with Seaborn's \"set palette\" function. Seaborn has many preset color palettes that you can refer to by name, or you can create your own custom palette. red/blue and purple/green. Note that if you append the palette name with \"_r\", you can reverse the palette."
   ]
  },
  {
   "cell_type": "markdown",
   "id": "071379fd-8b76-4b9b-8658-747ce94ad56d",
   "metadata": {},
   "source": [
    "#### Finally, you can change the scale of your plot by using the \"set context\" function. The scale options from smallest to largest are \"paper\", \"notebook\", \"talk\", and \"poster\"."
   ]
  },
  {
   "cell_type": "code",
   "execution_count": 86,
   "id": "90fa17b4-cbc1-480a-8aaa-3a828026bc43",
   "metadata": {},
   "outputs": [
    {
     "data": {
      "image/png": "[encoded data removed]",
      "text/plain": [
       "<Figure size 360x360 with 1 Axes>"
      ]
     },
     "metadata": {},
     "output_type": "display_data"
    }
   ],
   "source": [
    "# Set the style to \"whitegrid\"\n",
    "sns.set_style(\"whitegrid\")\n",
    "sns.set_palette(\"Purples\")\n",
    "\n",
    "\n",
    "\n",
    "# Create a bar plot of interest in math, separated by gender\n",
    "sns.catplot(y=\"Gls\", x=\"Squad\",\n",
    "            data=df2, kind=\"bar\")\n",
    "\n",
    "# Show plot\n",
    "plt.show()"
   ]
  },
  {
   "cell_type": "code",
   "execution_count": 95,
   "id": "6cce1c05-3960-4a50-8088-2b187bd2bbb5",
   "metadata": {},
   "outputs": [
    {
     "data": {
      "image/png": "[encoded data removed]",
      "text/plain": [
       "<Figure size 360x360 with 1 Axes>"
      ]
     },
     "metadata": {},
     "output_type": "display_data"
    }
   ],
   "source": [
    "# Set the style to \"whitegrid\"\n",
    "sns.set_style(\"ticks\") # background style\n",
    "sns.set_palette(\"RdBu\")  #changes pallette color\n",
    "sns.set_context(\"notebook\") # changes scale:notebook,paper,poster,talk\n",
    "\n",
    "\n",
    "# Create a bar plot of interest in math, separated by gender\n",
    "sns.catplot(y=\"Gls\", x=\"Squad\",\n",
    "            data=df2, kind=\"bar\")\n",
    "\n",
    "# Show plot\n",
    "plt.show()"
   ]
  },
  {
   "cell_type": "code",
   "execution_count": 96,
   "id": "959d0b36-bb47-4852-94df-c9a9fd7887ec",
   "metadata": {},
   "outputs": [
    {
     "data": {
      "image/png": "[encoded data removed]",
      "text/plain": [
       "<Figure size 360x360 with 1 Axes>"
      ]
     },
     "metadata": {},
     "output_type": "display_data"
    }
   ],
   "source": [
    "# Set the style to \"whitegrid\"\n",
    "sns.set_style(\"dark\") # background style\n",
    "# Set a custom color palette\n",
    "sns.set_palette([\"#39A7D0\", \"#36ADA4\"]) \n",
    "sns.set_context(\"talk\") # changes scale:notebook,paper,poster,talk\n",
    "\n",
    "\n",
    "# Create a bar plot of interest in math, separated by gender\n",
    "sns.catplot(y=\"Gls\", x=\"Squad\",\n",
    "            data=df2, kind=\"bar\")\n",
    "\n",
    "# Show plot\n",
    "plt.show()"
   ]
  },
  {
   "cell_type": "markdown",
   "id": "e5bcbc24-f024-48e4-920b-d5662222d942",
   "metadata": {},
   "source": [
    "# ->Adding titles and labels: Part 1"
   ]
  },
  {
   "cell_type": "markdown",
   "id": "1072c6c9-b09c-43f2-a054-b458ef475a45",
   "metadata": {},
   "source": [
    "Seaborn's plot functions create two different types of objects: FacetGrids and AxesSubplots. To figure out which type of object you're working with, first assign the plot output to a variable. In the documentation, the variable is often named \"g\", so we'll do that here as well. Write \"type\" \"g\" to return the object type. "
   ]
  },
  {
   "cell_type": "markdown",
   "id": "714c4842-7b5d-4999-944b-f2759b30bc64",
   "metadata": {},
   "source": [
    "#### \"relplot()\" and \"catplot()\" both support making subplots. This means that they are creating FacetGrid objects. In contrast, single-type plot functions like \"scatterplot()\" and \"countplot()\" return a single AxesSubplot object."
   ]
  },
  {
   "cell_type": "code",
   "execution_count": 100,
   "id": "456f73d8-c5c5-4555-bc09-8aef949eb99a",
   "metadata": {},
   "outputs": [
    {
     "data": {
      "text/html": [
       "<div>\n",
       "<style scoped>\n",
       "    .dataframe tbody tr th:only-of-type {\n",
       "        vertical-align: middle;\n",
       "    }\n",
       "\n",
       "    .dataframe tbody tr th {\n",
       "        vertical-align: top;\n",
       "    }\n",
       "\n",
       "    .dataframe thead th {\n",
       "        text-align: right;\n",
       "    }\n",
       "</style>\n",
       "<table border=\"1\" class=\"dataframe\">\n",
       "  <thead>\n",
       "    <tr style=\"text-align: right;\">\n",
       "      <th></th>\n",
       "      <th>Name</th>\n",
       "      <th>Age</th>\n",
       "      <th>Place</th>\n",
       "    </tr>\n",
       "  </thead>\n",
       "  <tbody>\n",
       "    <tr>\n",
       "      <th>0</th>\n",
       "      <td>A</td>\n",
       "      <td>10</td>\n",
       "      <td>Urban</td>\n",
       "    </tr>\n",
       "    <tr>\n",
       "      <th>1</th>\n",
       "      <td>A</td>\n",
       "      <td>15</td>\n",
       "      <td>Rural</td>\n",
       "    </tr>\n",
       "    <tr>\n",
       "      <th>2</th>\n",
       "      <td>A</td>\n",
       "      <td>12</td>\n",
       "      <td>Urban</td>\n",
       "    </tr>\n",
       "    <tr>\n",
       "      <th>3</th>\n",
       "      <td>B</td>\n",
       "      <td>17</td>\n",
       "      <td>Rural</td>\n",
       "    </tr>\n",
       "    <tr>\n",
       "      <th>4</th>\n",
       "      <td>B</td>\n",
       "      <td>21</td>\n",
       "      <td>Urban</td>\n",
       "    </tr>\n",
       "    <tr>\n",
       "      <th>5</th>\n",
       "      <td>B</td>\n",
       "      <td>1</td>\n",
       "      <td>Rural</td>\n",
       "    </tr>\n",
       "    <tr>\n",
       "      <th>6</th>\n",
       "      <td>C</td>\n",
       "      <td>23</td>\n",
       "      <td>Urban</td>\n",
       "    </tr>\n",
       "    <tr>\n",
       "      <th>7</th>\n",
       "      <td>C</td>\n",
       "      <td>10</td>\n",
       "      <td>Rural</td>\n",
       "    </tr>\n",
       "    <tr>\n",
       "      <th>8</th>\n",
       "      <td>C</td>\n",
       "      <td>30</td>\n",
       "      <td>Urban</td>\n",
       "    </tr>\n",
       "    <tr>\n",
       "      <th>9</th>\n",
       "      <td>A</td>\n",
       "      <td>16</td>\n",
       "      <td>Urban</td>\n",
       "    </tr>\n",
       "    <tr>\n",
       "      <th>10</th>\n",
       "      <td>A</td>\n",
       "      <td>5</td>\n",
       "      <td>Rural</td>\n",
       "    </tr>\n",
       "    <tr>\n",
       "      <th>11</th>\n",
       "      <td>A</td>\n",
       "      <td>2</td>\n",
       "      <td>Urban</td>\n",
       "    </tr>\n",
       "    <tr>\n",
       "      <th>12</th>\n",
       "      <td>B</td>\n",
       "      <td>27</td>\n",
       "      <td>Rural</td>\n",
       "    </tr>\n",
       "    <tr>\n",
       "      <th>13</th>\n",
       "      <td>B</td>\n",
       "      <td>25</td>\n",
       "      <td>Urban</td>\n",
       "    </tr>\n",
       "    <tr>\n",
       "      <th>14</th>\n",
       "      <td>B</td>\n",
       "      <td>12</td>\n",
       "      <td>Rural</td>\n",
       "    </tr>\n",
       "    <tr>\n",
       "      <th>15</th>\n",
       "      <td>C</td>\n",
       "      <td>43</td>\n",
       "      <td>Urban</td>\n",
       "    </tr>\n",
       "    <tr>\n",
       "      <th>16</th>\n",
       "      <td>C</td>\n",
       "      <td>20</td>\n",
       "      <td>Rural</td>\n",
       "    </tr>\n",
       "    <tr>\n",
       "      <th>17</th>\n",
       "      <td>C</td>\n",
       "      <td>30</td>\n",
       "      <td>Urban</td>\n",
       "    </tr>\n",
       "  </tbody>\n",
       "</table>\n",
       "</div>"
      ],
      "text/plain": [
       "   Name  Age  Place\n",
       "0     A   10  Urban\n",
       "1     A   15  Rural\n",
       "2     A   12  Urban\n",
       "3     B   17  Rural\n",
       "4     B   21  Urban\n",
       "5     B    1  Rural\n",
       "6     C   23  Urban\n",
       "7     C   10  Rural\n",
       "8     C   30  Urban\n",
       "9     A   16  Urban\n",
       "10    A    5  Rural\n",
       "11    A    2  Urban\n",
       "12    B   27  Rural\n",
       "13    B   25  Urban\n",
       "14    B   12  Rural\n",
       "15    C   43  Urban\n",
       "16    C   20  Rural\n",
       "17    C   30  Urban"
      ]
     },
     "execution_count": 100,
     "metadata": {},
     "output_type": "execute_result"
    }
   ],
   "source": [
    "df\n"
   ]
  },
  {
   "cell_type": "code",
   "execution_count": 106,
   "id": "cdbae8ab-6fd4-4661-b7e4-47ea078390df",
   "metadata": {},
   "outputs": [
    {
     "name": "stdout",
     "output_type": "stream",
     "text": [
      "<class 'seaborn.axisgrid.FacetGrid'>\n"
     ]
    },
    {
     "data": {
      "text/plain": [
       "Text(0.5, 1.1, 'Car Weight vs. Horsepower')"
      ]
     },
     "execution_count": 106,
     "metadata": {},
     "output_type": "execute_result"
    },
    {
     "data": {
      "image/png": "[encoded data removed]",
      "text/plain": [
       "<Figure size 360x360 with 1 Axes>"
      ]
     },
     "metadata": {},
     "output_type": "display_data"
    }
   ],
   "source": [
    "g  =sns.relplot(x=\"Name\", y =\"Age\" ,data=df, kind=\"scatter\")\n",
    "\n",
    "# Identify plot type\n",
    "type_of_g = type(g)\n",
    "\n",
    "# Print type\n",
    "print(type_of_g)\n",
    "\n",
    "g.fig.suptitle(\"Car Weight vs. Horsepower\",y=1.1)"
   ]
  },
  {
   "cell_type": "markdown",
   "id": "c0cff525-c83d-4527-bec6-8f68f090e193",
   "metadata": {},
   "source": [
    "# ->Adding titles and labels: Part 2"
   ]
  },
  {
   "cell_type": "code",
   "execution_count": 109,
   "id": "1ed22cb1-9b3e-4b82-be98-7733a707dd22",
   "metadata": {},
   "outputs": [
    {
     "data": {
      "image/png": "[encoded data removed]",
      "text/plain": [
       "<Figure size 432x288 with 1 Axes>"
      ]
     },
     "metadata": {},
     "output_type": "display_data"
    }
   ],
   "source": [
    "# Create line plot\n",
    "g = sns.lineplot(x=\"Name\", y=\"Age\", \n",
    "                 data=df,\n",
    "                 hue=\"Place\")\n",
    "\n",
    "# Add a title \"Average MPG Over Time\"\n",
    "g.set_title(\"Average MPG Over Time\")\n",
    "\n",
    "# Add x-axis and y-axis labels\n",
    "g.set(xlabel=\"Car Model Year\", \n",
    "      ylabel=\"Average MPG\")\n",
    "\n",
    "\n",
    "# Rotate x-tick labels\n",
    "plt.xticks(rotation=90)\n",
    "\n",
    "# Show plot\n",
    "plt.show()"
   ]
  },
  {
   "cell_type": "markdown",
   "id": "127fad1f-24b1-447d-ae82-69d56cc5e725",
   "metadata": {},
   "source": [
    "# ->Putting it all together"
   ]
  },
  {
   "cell_type": "markdown",
   "id": "bf5e0042-aaf7-43a2-8885-805befdd0603",
   "metadata": {},
   "source": [
    "####  Relational plots are plots that show the relationship between two quantitative variables. Examples of relational plots that we've seen in this course are scatter plots and line plots."
   ]
  },
  {
   "cell_type": "markdown",
   "id": "7415cbe9-10ca-4bff-88d5-a2c37ff8750e",
   "metadata": {},
   "source": [
    "#### Categorical plots are another type of plot. These describe the distribution of a quantitative variable within categories given by a categorical variable. Examples of categorical plots we've seen are bar plots, count plots, box plots, and point plots"
   ]
  },
  {
   "cell_type": "markdown",
   "id": "cc0af0d1-d1a9-427f-992a-a3193509d0e5",
   "metadata": {},
   "source": [
    "#### If we want to add a third dimension to our plots, we can do this in one of two ways. Setting the \"hue\" parameter to a variable name will create a single plot but will show subgroups that are different colors based on that variable's values."
   ]
  },
  {
   "cell_type": "markdown",
   "id": "5dc7da25-667f-4f5f-a756-b4d4fbe7d835",
   "metadata": {},
   "source": [
    "#### Alternatively, you can use \"relplot()\" and \"catplot()\"’s \"col\" and \"row\" parameters to graph each subgroup on a separate subplot in the figure."
   ]
  },
  {
   "cell_type": "markdown",
   "id": "2a655001-f90d-436d-9829-e54aa1ddea3b",
   "metadata": {},
   "source": [
    "#### \"set_style\", the color of the main elements using \"set_palette\", and the scale of the plot using \"set_context\"."
   ]
  },
  {
   "cell_type": "markdown",
   "id": "d8c5c71f-8a83-474d-9ac0-4bb99f9817ca",
   "metadata": {},
   "source": [
    "#### FacetGrids and AxesSubplots - and the way to add a title to each of them."
   ]
  },
  {
   "cell_type": "code",
   "execution_count": null,
   "id": "b9ff0510-8eef-4b05-80f7-f459ce00b4f7",
   "metadata": {},
   "outputs": [],
   "source": []
  }
 ],
 "metadata": {
  "kernelspec": {
   "display_name": "Python 3 (ipykernel)",
   "language": "python",
   "name": "python3"
  },
  "language_info": {
   "codemirror_mode": {
    "name": "ipython",
    "version": 3
   },
   "file_extension": ".py",
   "mimetype": "text/x-python",
   "name": "python",
   "nbconvert_exporter": "python",
   "pygments_lexer": "ipython3",
   "version": "3.9.7"
  }
 },
 "nbformat": 4,
 "nbformat_minor": 5
}
